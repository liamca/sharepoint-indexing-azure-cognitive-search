{
 "cells": [
  {
   "cell_type": "markdown",
   "metadata": {},
   "source": [
    "### Perform a search against the Azure AI Search Index"
   ]
  },
  {
   "cell_type": "code",
   "execution_count": null,
   "metadata": {},
   "outputs": [],
   "source": [
    "import os\n",
    "from azure.core.credentials import AzureKeyCredential\n",
    "from azure.search.documents.indexes import SearchIndexClient\n",
    "from azure.search.documents import SearchClient\n",
    "from azure.search.documents.indexes.models import (\n",
    "    CorsOptions,\n",
    "    SearchIndex,\n",
    "    ComplexField,\n",
    "    SearchFieldDataType,\n",
    "    SimpleField,\n",
    "    SearchableField,\n",
    ")\n",
    "\n",
    "from dotenv import load_dotenv\n",
    "\n",
    "# Load environment variables from .env file\n",
    "load_dotenv()\n"
   ]
  },
  {
   "cell_type": "code",
   "execution_count": null,
   "metadata": {},
   "outputs": [],
   "source": [
    "# Set the service endpoint and API key from the environment\n",
    "# Create an SDK client\n",
    "endpoint = os.environ[\"SEARCH_SERVICE_ENDPOINT\"]\n",
    "search_client = SearchClient(\n",
    "    endpoint=endpoint,\n",
    "    index_name=os.environ[\"SEARCH_INDEX_NAME\"],\n",
    "    credential=AzureKeyCredential(os.environ[\"SEARCH_ADMIN_API_KEY\"]),\n",
    ")\n",
    "\n",
    "admin_client = SearchIndexClient(\n",
    "    endpoint=endpoint,\n",
    "    index_name=os.environ[\"SEARCH_INDEX_NAME\"],\n",
    "    credential=AzureKeyCredential(os.environ[\"SEARCH_ADMIN_API_KEY\"]),\n",
    ")"
   ]
  },
  {
   "cell_type": "code",
   "execution_count": null,
   "metadata": {},
   "outputs": [],
   "source": [
    "# Use the Azure Cognitive Search SDK to perform a search on the index\n",
    "# The search_text parameter is set to \"LLMs are the best\"\n",
    "results = search_client.search(search_text=\"class\")\n",
    "\n",
    "# Iterate through the search results\n",
    "for result in results:\n",
    "    # Print the ID and name of each result\n",
    "    print(f\"ID: {result['id']}, Name: {result['name']}\")\n",
    "\n",
    "    # Print the first 100 characters of the content of each result\n",
    "    print(f\"Content: {result['content'][:100]}\")"
   ]
  },
  {
   "cell_type": "code",
   "execution_count": null,
   "metadata": {},
   "outputs": [],
   "source": []
  }
 ],
 "metadata": {
  "kernelspec": {
   "display_name": "Python 3 (ipykernel)",
   "language": "python",
   "name": "python3"
  },
  "language_info": {
   "codemirror_mode": {
    "name": "ipython",
    "version": 3
   },
   "file_extension": ".py",
   "mimetype": "text/x-python",
   "name": "python",
   "nbconvert_exporter": "python",
   "pygments_lexer": "ipython3",
   "version": "3.12.0"
  }
 },
 "nbformat": 4,
 "nbformat_minor": 4
}
